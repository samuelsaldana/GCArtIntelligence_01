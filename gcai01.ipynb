{
  "nbformat": 4,
  "nbformat_minor": 0,
  "metadata": {
    "colab": {
      "name": "gcai01.ipynb",
      "provenance": [],
      "collapsed_sections": [],
      "include_colab_link": true
    },
    "kernelspec": {
      "name": "python3",
      "display_name": "Python 3"
    }
  },
  "cells": [
    {
      "cell_type": "markdown",
      "metadata": {
        "id": "view-in-github",
        "colab_type": "text"
      },
      "source": [
        "<a href=\"https://colab.research.google.com/github/samuelsaldana/GCArtIntelligence_01/blob/master/gcai01.ipynb\" target=\"_parent\"><img src=\"https://colab.research.google.com/assets/colab-badge.svg\" alt=\"Open In Colab\"/></a>"
      ]
    },
    {
      "cell_type": "code",
      "metadata": {
        "id": "zaHGMlF8rmLc",
        "colab_type": "code",
        "outputId": "337ea9c8-e958-4ee3-9092-c9fdddc5d721",
        "colab": {
          "base_uri": "https://localhost:8080/",
          "height": 231
        }
      },
      "source": [
        "import time\n",
        "print(\"Sleeping\")\n",
        "time.sleeping(15)\n",
        "print(\"Done sleeping\")"
      ],
      "execution_count": 0,
      "outputs": [
        {
          "output_type": "stream",
          "text": [
            "Sleeping\n"
          ],
          "name": "stdout"
        },
        {
          "output_type": "error",
          "ename": "AttributeError",
          "evalue": "ignored",
          "traceback": [
            "\u001b[0;31m---------------------------------------------------------------------------\u001b[0m",
            "\u001b[0;31mAttributeError\u001b[0m                            Traceback (most recent call last)",
            "\u001b[0;32m<ipython-input-2-b8cd91ad374f>\u001b[0m in \u001b[0;36m<module>\u001b[0;34m()\u001b[0m\n\u001b[1;32m      1\u001b[0m \u001b[0;32mimport\u001b[0m \u001b[0mtime\u001b[0m\u001b[0;34m\u001b[0m\u001b[0;34m\u001b[0m\u001b[0m\n\u001b[1;32m      2\u001b[0m \u001b[0mprint\u001b[0m\u001b[0;34m(\u001b[0m\u001b[0;34m\"Sleeping\"\u001b[0m\u001b[0;34m)\u001b[0m\u001b[0;34m\u001b[0m\u001b[0;34m\u001b[0m\u001b[0m\n\u001b[0;32m----> 3\u001b[0;31m \u001b[0mtime\u001b[0m\u001b[0;34m.\u001b[0m\u001b[0msleeping\u001b[0m\u001b[0;34m(\u001b[0m\u001b[0;36m15\u001b[0m\u001b[0;34m)\u001b[0m\u001b[0;34m\u001b[0m\u001b[0;34m\u001b[0m\u001b[0m\n\u001b[0m\u001b[1;32m      4\u001b[0m \u001b[0mprint\u001b[0m\u001b[0;34m(\u001b[0m\u001b[0;34m\"Done sleeping\"\u001b[0m\u001b[0;34m)\u001b[0m\u001b[0;34m\u001b[0m\u001b[0;34m\u001b[0m\u001b[0m\n",
            "\u001b[0;31mAttributeError\u001b[0m: module 'time' has no attribute 'sleeping'"
          ]
        }
      ]
    },
    {
      "cell_type": "code",
      "metadata": {
        "id": "dSWHsNxzxwJx",
        "colab_type": "code",
        "outputId": "3f37cdff-81f0-4d9f-c843-ccb553ef4536",
        "colab": {
          "base_uri": "https://localhost:8080/",
          "height": 34
        }
      },
      "source": [
        "a=5\n",
        "print(a)"
      ],
      "execution_count": 0,
      "outputs": [
        {
          "output_type": "stream",
          "text": [
            "5\n"
          ],
          "name": "stdout"
        }
      ]
    },
    {
      "cell_type": "code",
      "metadata": {
        "id": "dqEVhyLUyRb2",
        "colab_type": "code",
        "colab": {}
      },
      "source": [
        "def funcion1():\n",
        "  print(\"Hola mundo\")"
      ],
      "execution_count": 0,
      "outputs": []
    },
    {
      "cell_type": "code",
      "metadata": {
        "id": "bEwJtHmPyZy_",
        "colab_type": "code",
        "outputId": "ac6c3997-4f1a-4bf3-f7b2-61ea41ed79f4",
        "colab": {
          "base_uri": "https://localhost:8080/",
          "height": 34
        }
      },
      "source": [
        "funcion1()"
      ],
      "execution_count": 0,
      "outputs": [
        {
          "output_type": "stream",
          "text": [
            "Hola mundo\n"
          ],
          "name": "stdout"
        }
      ]
    },
    {
      "cell_type": "code",
      "metadata": {
        "id": "YEqUDzIByn1D",
        "colab_type": "code",
        "outputId": "94dbbf39-e68f-4eaa-cbe0-a9b022bd319e",
        "colab": {
          "base_uri": "https://localhost:8080/",
          "height": 51
        }
      },
      "source": [
        "!ls -l"
      ],
      "execution_count": 0,
      "outputs": [
        {
          "output_type": "stream",
          "text": [
            "total 4\n",
            "drwxr-xr-x 1 root root 4096 Nov 21 16:30 sample_data\n"
          ],
          "name": "stdout"
        }
      ]
    },
    {
      "cell_type": "code",
      "metadata": {
        "id": "rXEjWYcMyxaM",
        "colab_type": "code",
        "outputId": "0b07bcb5-fe87-4b79-8c33-e526a47b7377",
        "colab": {
          "base_uri": "https://localhost:8080/",
          "height": 68
        }
      },
      "source": [
        "%ls -l"
      ],
      "execution_count": 0,
      "outputs": [
        {
          "output_type": "stream",
          "text": [
            "total 8\n",
            "drwxr-xr-x 7 root root 4096 Nov 24 23:48 \u001b[0m\u001b[01;34mAMP-Tech\u001b[0m/\n",
            "drwxr-xr-x 1 root root 4096 Nov 21 16:30 \u001b[01;34msample_data\u001b[0m/\n"
          ],
          "name": "stdout"
        }
      ]
    },
    {
      "cell_type": "code",
      "metadata": {
        "id": "0duS8fWfy0jM",
        "colab_type": "code",
        "outputId": "59ab669d-255b-4a77-894c-fa20e3746c89",
        "colab": {
          "base_uri": "https://localhost:8080/",
          "height": 136
        }
      },
      "source": [
        "! git clone https://github.com/puigalex/AMP-Tech.git"
      ],
      "execution_count": 0,
      "outputs": [
        {
          "output_type": "stream",
          "text": [
            "Cloning into 'AMP-Tech'...\n",
            "remote: Enumerating objects: 4, done.\u001b[K\n",
            "remote: Counting objects: 100% (4/4), done.\u001b[K\n",
            "remote: Compressing objects: 100% (4/4), done.\u001b[K\n",
            "remote: Total 3992 (delta 0), reused 0 (delta 0), pack-reused 3988\u001b[K\n",
            "Receiving objects: 100% (3992/3992), 90.47 MiB | 28.49 MiB/s, done.\n",
            "Resolving deltas: 100% (98/98), done.\n"
          ],
          "name": "stdout"
        }
      ]
    },
    {
      "cell_type": "code",
      "metadata": {
        "id": "DQS-7ERi0UQ4",
        "colab_type": "code",
        "outputId": "70177058-b238-4a95-e6fb-f4a8fc980988",
        "colab": {
          "base_uri": "https://localhost:8080/",
          "height": 34
        }
      },
      "source": [
        "%cd ..\n"
      ],
      "execution_count": 0,
      "outputs": [
        {
          "output_type": "stream",
          "text": [
            "/\n"
          ],
          "name": "stdout"
        }
      ]
    },
    {
      "cell_type": "code",
      "metadata": {
        "id": "BJ0LE5fZ29Ay",
        "colab_type": "code",
        "outputId": "744a53f9-5b16-4951-f261-22ba7f37ab27",
        "colab": {
          "base_uri": "https://localhost:8080/",
          "height": 459
        }
      },
      "source": [
        "%ls -l"
      ],
      "execution_count": 0,
      "outputs": [
        {
          "output_type": "stream",
          "text": [
            "total 96\n",
            "drwxr-xr-x   1 root root 4096 Nov 21 16:21 \u001b[0m\u001b[01;34mbin\u001b[0m/\n",
            "drwxr-xr-x   2 root root 4096 Apr 24  2018 \u001b[01;34mboot\u001b[0m/\n",
            "drwxr-xr-x   1 root root 4096 Nov 24 23:48 \u001b[01;34mcontent\u001b[0m/\n",
            "drwxr-xr-x   1 root root 4096 Nov 21 17:06 \u001b[01;34mdatalab\u001b[0m/\n",
            "drwxr-xr-x   5 root root  360 Nov 24 23:35 \u001b[01;34mdev\u001b[0m/\n",
            "drwxr-xr-x   1 root root 4096 Nov 24 23:35 \u001b[01;34metc\u001b[0m/\n",
            "drwxr-xr-x   2 root root 4096 Apr 24  2018 \u001b[01;34mhome\u001b[0m/\n",
            "drwxr-xr-x   1 root root 4096 Nov 21 16:25 \u001b[01;34mlib\u001b[0m/\n",
            "drwxr-xr-x   2 root root 4096 Nov 21 16:16 \u001b[01;34mlib32\u001b[0m/\n",
            "drwxr-xr-x   2 root root 4096 Aug  7 13:03 \u001b[01;34mlib64\u001b[0m/\n",
            "drwxr-xr-x   2 root root 4096 Aug  7 13:02 \u001b[01;34mmedia\u001b[0m/\n",
            "drwxr-xr-x   2 root root 4096 Aug  7 13:02 \u001b[01;34mmnt\u001b[0m/\n",
            "drwxr-xr-x   1 root root 4096 Nov 21 16:26 \u001b[01;34mopt\u001b[0m/\n",
            "dr-xr-xr-x 103 root root    0 Nov 24 23:35 \u001b[01;34mproc\u001b[0m/\n",
            "drwx------   1 root root 4096 Nov 24 23:35 \u001b[01;34mroot\u001b[0m/\n",
            "drwxr-xr-x   1 root root 4096 Nov 21 16:21 \u001b[01;34mrun\u001b[0m/\n",
            "drwxr-xr-x   1 root root 4096 Nov 21 16:23 \u001b[01;34msbin\u001b[0m/\n",
            "drwxr-xr-x   2 root root 4096 Aug  7 13:02 \u001b[01;34msrv\u001b[0m/\n",
            "drwxr-xr-x   4 root root 4096 Nov 21 17:05 \u001b[01;34mswift\u001b[0m/\n",
            "dr-xr-xr-x  12 root root    0 Nov 25 00:01 \u001b[01;34msys\u001b[0m/\n",
            "drwxr-xr-x   4 root root 4096 Nov 21 17:00 \u001b[01;34mtensorflow-2.0.0\u001b[0m/\n",
            "drwxrwxrwt   1 root root 4096 Nov 24 23:41 \u001b[30;42mtmp\u001b[0m/\n",
            "drwxr-xr-x   1 root root 4096 Nov 21 17:05 \u001b[01;34mtools\u001b[0m/\n",
            "drwxr-xr-x   1 root root 4096 Nov 21 16:26 \u001b[01;34musr\u001b[0m/\n",
            "drwxr-xr-x   1 root root 4096 Nov 24 23:35 \u001b[01;34mvar\u001b[0m/\n"
          ],
          "name": "stdout"
        }
      ]
    },
    {
      "cell_type": "code",
      "metadata": {
        "id": "dW4j9dRS3AfK",
        "colab_type": "code",
        "outputId": "1474d35b-a1a1-49fd-d3b2-516eadee39a4",
        "colab": {
          "base_uri": "https://localhost:8080/",
          "height": 34
        }
      },
      "source": [
        "%cd content/"
      ],
      "execution_count": 0,
      "outputs": [
        {
          "output_type": "stream",
          "text": [
            "/content\n"
          ],
          "name": "stdout"
        }
      ]
    },
    {
      "cell_type": "code",
      "metadata": {
        "id": "6CelAUVe3FRF",
        "colab_type": "code",
        "outputId": "94b4a7cb-c224-4df8-d3d2-ff0c3566da91",
        "colab": {
          "base_uri": "https://localhost:8080/",
          "height": 170
        }
      },
      "source": [
        "%ls -l"
      ],
      "execution_count": 0,
      "outputs": [
        {
          "output_type": "stream",
          "text": [
            "total 244\n",
            "drwxr-xr-x 3 root root   4096 Nov 24 23:48 \u001b[0m\u001b[01;34m'CNN desde cero'\u001b[0m/\n",
            "drwxr-xr-x 4 root root   4096 Nov 24 23:48  \u001b[01;34mDNN\u001b[0m/\n",
            "-rw-r--r-- 1 root root 164661 Nov 24 23:48 'Ep.10 PCA.ipynb'\n",
            "-rw-r--r-- 1 root root  47364 Nov 24 23:48 'Ep.11 Datasets.ipynb'\n",
            "drwxr-xr-x 2 root root   4096 Nov 24 23:48  \u001b[01;34mHerokuapp\u001b[0m/\n",
            "-rw-r--r-- 1 root root   6177 Nov 24 23:48  MNIST.ipynb\n",
            "-rw-r--r-- 1 root root     47 Nov 24 23:48  README.md\n",
            "-rw-r--r-- 1 root root   5046 Nov 24 23:48 'TensorFlow: Variables y Sesiones.ipynb'\n"
          ],
          "name": "stdout"
        }
      ]
    },
    {
      "cell_type": "code",
      "metadata": {
        "id": "SZZoCS8L3JSf",
        "colab_type": "code",
        "outputId": "41f2ecbb-47ff-49fe-b6e3-60cc6e340498",
        "colab": {
          "base_uri": "https://localhost:8080/",
          "height": 51
        }
      },
      "source": [
        "%cd AMP-Tech/"
      ],
      "execution_count": 0,
      "outputs": [
        {
          "output_type": "stream",
          "text": [
            "[Errno 2] No such file or directory: 'AMP-Tech/'\n",
            "/content/AMP-Tech\n"
          ],
          "name": "stdout"
        }
      ]
    },
    {
      "cell_type": "code",
      "metadata": {
        "id": "kjtK4Z725LB8",
        "colab_type": "code",
        "outputId": "88507605-32ad-4224-ea20-b3cc302bb7e2",
        "colab": {
          "base_uri": "https://localhost:8080/",
          "height": 136
        }
      },
      "source": [
        "! git clone https://github.com/puigalex/AMP-Tech.git"
      ],
      "execution_count": 0,
      "outputs": [
        {
          "output_type": "stream",
          "text": [
            "Cloning into 'AMP-Tech'...\n",
            "remote: Enumerating objects: 4, done.\u001b[K\n",
            "remote: Counting objects: 100% (4/4), done.\u001b[K\n",
            "remote: Compressing objects: 100% (4/4), done.\u001b[K\n",
            "remote: Total 3992 (delta 0), reused 0 (delta 0), pack-reused 3988\u001b[K\n",
            "Receiving objects: 100% (3992/3992), 90.47 MiB | 11.82 MiB/s, done.\n",
            "Resolving deltas: 100% (98/98), done.\n"
          ],
          "name": "stdout"
        }
      ]
    },
    {
      "cell_type": "code",
      "metadata": {
        "id": "9RgvqB7_P28G",
        "colab_type": "code",
        "colab": {}
      },
      "source": [
        ""
      ],
      "execution_count": 0,
      "outputs": []
    },
    {
      "cell_type": "code",
      "metadata": {
        "id": "eZwGYGUlQB3y",
        "colab_type": "code",
        "outputId": "b9a234a1-3dbd-4ebc-c1d2-807d7a208b74",
        "colab": {
          "base_uri": "https://localhost:8080/",
          "height": 122
        }
      },
      "source": [
        "from google.colab import drive\n",
        "drive.mount('/content/drive')"
      ],
      "execution_count": 0,
      "outputs": [
        {
          "output_type": "stream",
          "text": [
            "Go to this URL in a browser: https://accounts.google.com/o/oauth2/auth?client_id=947318989803-6bn6qk8qdgf4n4g3pfee6491hc0brc4i.apps.googleusercontent.com&redirect_uri=urn%3aietf%3awg%3aoauth%3a2.0%3aoob&response_type=code&scope=email%20https%3a%2f%2fwww.googleapis.com%2fauth%2fdocs.test%20https%3a%2f%2fwww.googleapis.com%2fauth%2fdrive%20https%3a%2f%2fwww.googleapis.com%2fauth%2fdrive.photos.readonly%20https%3a%2f%2fwww.googleapis.com%2fauth%2fpeopleapi.readonly\n",
            "\n",
            "Enter your authorization code:\n",
            "··········\n",
            "Mounted at /content/drive\n"
          ],
          "name": "stdout"
        }
      ]
    },
    {
      "cell_type": "code",
      "metadata": {
        "id": "SRvmImiyQFe7",
        "colab_type": "code",
        "colab": {}
      },
      "source": [
        ""
      ],
      "execution_count": 0,
      "outputs": []
    }
  ]
}